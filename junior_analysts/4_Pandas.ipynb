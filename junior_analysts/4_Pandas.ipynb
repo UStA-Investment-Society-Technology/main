{
 "cells": [
  {
   "cell_type": "markdown",
   "id": "33f4219f",
   "metadata": {},
   "source": [
    "# Pandas\n"
   ]
  },
  {
   "cell_type": "markdown",
   "id": "8a8e5ece",
   "metadata": {},
   "source": [
    "What Is Pandas In Python?\n",
    "Pandas is an open source Python package that is most widely used for data science/data analysis and machine learning tasks. It is built on top of another package named Numpy, which provides support for multi-dimensional arrays. As one of the most popular data wrangling packages, Pandas works well with many other data science modules inside the Python ecosystem, and is typically included in every Python distribution\n",
    "\n",
    "What Can You Do With DataFrames Using Pandas?\n",
    "Pandas makes it simple to do many of the time consuming, repetitive tasks associated with working with data, including:\n",
    "\n",
    "Data cleansing\n",
    "\n",
    "Data fill\n",
    "\n",
    "Data normalization\n",
    "\n",
    "Merges and joins\n",
    "\n",
    "Data visualization\n",
    "\n",
    "Statistical analysis\n",
    "\n",
    "Data inspection\n",
    "\n",
    "Loading and saving data\n",
    "\n",
    "And much more\n",
    "\n",
    "In fact, with Pandas, you can do everything that makes world-leading data scientists vote Pandas as the best data analysis \n",
    "and manipulation tool available."
   ]
  },
  {
   "cell_type": "code",
   "execution_count": null,
   "id": "9718e36c",
   "metadata": {},
   "outputs": [],
   "source": [
    "# pip install pandas\n",
    "import pandas as pd"
   ]
  },
  {
   "cell_type": "code",
   "execution_count": null,
   "id": "f002f93a",
   "metadata": {},
   "outputs": [],
   "source": [
    "games = pd.read_csv(\"vgsalesGlobal.csv\", index_col = \"Name\") # read_csv is a function that reads in the data from a CSV file"
   ]
  },
  {
   "cell_type": "code",
   "execution_count": null,
   "id": "cb3d7d50",
   "metadata": {},
   "outputs": [],
   "source": [
    "games.head() # head() shows the first 5 rows of the dataset"
   ]
  },
  {
   "cell_type": "code",
   "execution_count": null,
   "id": "061c6942",
   "metadata": {},
   "outputs": [],
   "source": [
    "games.tail(10) # tail shows the last x rows of the dataset, the number specified is how may rows is shown\n"
   ]
  },
  {
   "cell_type": "code",
   "execution_count": null,
   "id": "6eaf6873",
   "metadata": {},
   "outputs": [],
   "source": [
    "len(games) # length of the dataset"
   ]
  },
  {
   "cell_type": "code",
   "execution_count": null,
   "id": "ea7ce08c",
   "metadata": {},
   "outputs": [],
   "source": [
    "games.shape  # length and number of columns"
   ]
  },
  {
   "cell_type": "code",
   "execution_count": null,
   "id": "f8a13b23",
   "metadata": {},
   "outputs": [],
   "source": [
    "games.dtypes # What each type of each column is "
   ]
  },
  {
   "cell_type": "code",
   "execution_count": null,
   "id": "46ef8209",
   "metadata": {},
   "outputs": [],
   "source": [
    "games.iloc[299] # iloc founds specified row "
   ]
  },
  {
   "cell_type": "code",
   "execution_count": null,
   "id": "3b1332c3",
   "metadata": {},
   "outputs": [],
   "source": [
    "games.loc[\"Super Mario Bros.\"] # loc find the row based on the name given"
   ]
  },
  {
   "cell_type": "code",
   "execution_count": null,
   "id": "199af610",
   "metadata": {},
   "outputs": [],
   "source": [
    "games.head()"
   ]
  },
  {
   "cell_type": "code",
   "execution_count": null,
   "id": "7b6fa913",
   "metadata": {},
   "outputs": [],
   "source": [
    "games.sort_values(by = \"Year\").head() # sort by value year and show first 5 values"
   ]
  },
  {
   "cell_type": "code",
   "execution_count": null,
   "id": "f5f69b3b",
   "metadata": {},
   "outputs": [],
   "source": [
    "games.sort_values(by = \"Year\", ascending=False).head() # you can pass through as ascending parameter and change the value"
   ]
  },
  {
   "cell_type": "code",
   "execution_count": null,
   "id": "68a6dd41",
   "metadata": {},
   "outputs": [],
   "source": [
    "games.sort_values(by = [\"Year\", \"Genre\"], ascending=False).head()  # sort by multiple values, if sorting on string column then it's sorted alphabetically\n"
   ]
  },
  {
   "cell_type": "code",
   "execution_count": null,
   "id": "a521be70",
   "metadata": {},
   "outputs": [],
   "source": [
    "games.sort_index().head() # sorted by name since that's the index"
   ]
  },
  {
   "cell_type": "code",
   "execution_count": null,
   "id": "61a2719e",
   "metadata": {},
   "outputs": [],
   "source": [
    "games[\"Publisher\"].head(10) # get names and publishers for the first 10 rows"
   ]
  },
  {
   "cell_type": "code",
   "execution_count": null,
   "id": "619f5879",
   "metadata": {},
   "outputs": [],
   "source": [
    "games[games[\"Genre\"] ==\"Action\"] ] # get the rows in which genre is action"
   ]
  },
  {
   "cell_type": "code",
   "execution_count": null,
   "id": "19dd5c21",
   "metadata": {},
   "outputs": [],
   "source": [
    "games_by_genre = games[\"Genre\"] ==\"Action\"  # assign variable value games_by_genre to games that are action , then display all rows that have it assigned\n",
    "games[games_by_genre]"
   ]
  },
  {
   "cell_type": "code",
   "execution_count": null,
   "id": "b72e5bde",
   "metadata": {},
   "outputs": [],
   "source": [
    "games_in_2010 = games[\"Year\"] == 2010  # similar to previous cell but now both values are used to display\n",
    "games[games_by_genre & games_in_2010]"
   ]
  },
  {
   "cell_type": "code",
   "execution_count": null,
   "id": "f9210e9a",
   "metadata": {},
   "outputs": [],
   "source": [
    "games[games_by_genre | games_in_2010]"
   ]
  },
  {
   "cell_type": "code",
   "execution_count": null,
   "id": "6bc14abe",
   "metadata": {},
   "outputs": [],
   "source": [
    "after_2015 = games[\"Year\"] > 2015 # display games after 2015\n",
    "games[after_2015]"
   ]
  },
  {
   "cell_type": "code",
   "execution_count": null,
   "id": "97a0ba56",
   "metadata": {},
   "outputs": [],
   "source": [
    "mid_2000s = games[\"Year\"].between(2000, 2010) # between 2000 and 2010\n",
    "games[mid_2000s]"
   ]
  },
  {
   "cell_type": "code",
   "execution_count": null,
   "id": "93b9cc0a",
   "metadata": {},
   "outputs": [],
   "source": [
    "sport_in_title = games.index.str.lower().str.contains(\"sport\") # convert index to lower case string and contains sports and display them\n",
    "games[sport_in_title]"
   ]
  },
  {
   "cell_type": "code",
   "execution_count": null,
   "id": "e9858ab3",
   "metadata": {},
   "outputs": [],
   "source": [
    "games[\"Global_Sales\"].mean() # pretty simple, displays mean"
   ]
  },
  {
   "cell_type": "code",
   "execution_count": null,
   "id": "0a499117",
   "metadata": {},
   "outputs": [],
   "source": [
    "genres = games.groupby(\"Genre\") # group by Genre"
   ]
  },
  {
   "cell_type": "code",
   "execution_count": null,
   "id": "0fd99287",
   "metadata": {},
   "outputs": [],
   "source": [
    "genres[\"Global_Sales\"].sum() # sum of all sales grouped by genre"
   ]
  },
  {
   "cell_type": "code",
   "execution_count": null,
   "id": "8a4461b2",
   "metadata": {},
   "outputs": [],
   "source": [
    "genres[\"Global_Sales\"].sum().sort_values(ascending = False) # sort the values in decreasing order"
   ]
  }
 ],
 "metadata": {
  "kernelspec": {
   "display_name": "Python 3 (ipykernel)",
   "language": "python",
   "name": "python3"
  },
  "language_info": {
   "codemirror_mode": {
    "name": "ipython",
    "version": 3
   },
   "file_extension": ".py",
   "mimetype": "text/x-python",
   "name": "python",
   "nbconvert_exporter": "python",
   "pygments_lexer": "ipython3",
   "version": "3.10.4"
  },
  "vscode": {
   "interpreter": {
    "hash": "b0425d96adc896147bd8f3fc3254f2c8204f04eea8452028b1cddc67c70e58fc"
   }
  }
 },
 "nbformat": 4,
 "nbformat_minor": 5
}
