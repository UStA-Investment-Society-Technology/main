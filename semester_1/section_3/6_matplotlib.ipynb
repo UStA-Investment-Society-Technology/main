{
 "cells": [
  {
   "cell_type": "markdown",
   "metadata": {},
   "source": [
    "## MatplotLib\n"
   ]
  },
  {
   "cell_type": "markdown",
   "metadata": {},
   "source": [
    "Matplotlib is a cross-platform, data visualization and graphical plotting library for Python and its numerical extension NumPy. As such, it offers a viable open source alternative to MATLAB. Developers can also use matplotlib’s APIs (Application Programming Interfaces) to embed plots in GUI applications.\n",
    "\n",
    "A Python matplotlib script is structured so that a few lines of code are all that is required in most instances to generate a visual data plot. The matplotlib scripting layer overlays two APIs:\n",
    "\n",
    "The pyplot API is a hierarchy of Python code objects topped by matplotlib.pyplot\n",
    "An OO (Object-Oriented) API collection of objects that can be assembled with greater flexibility than pyplot. This API provides direct access to Matplotlib’s backend layers.  "
   ]
  },
  {
   "cell_type": "markdown",
   "metadata": {},
   "source": [
    "The first step is to import the relevant headers. **pyplot** is the workhorse that we will use to perform most of the work. We will also use **image**, **patches** and **collections**. We're also importing numpy and pandas for convenience in data manipulation."
   ]
  },
  {
   "cell_type": "code",
   "execution_count": null,
   "metadata": {},
   "outputs": [],
   "source": [
    "import matplotlib.pyplot as plt\n",
    "\n",
    "import matplotlib.image as mpimg\n",
    "from matplotlib.patches import Rectangle\n",
    "from matplotlib.collections import PatchCollection\n",
    "\n",
    "import numpy as np\n",
    "import pandas as pd\n",
    "\n",
    "import watermark\n",
    "\n",
    "%load_ext watermark\n",
    "%matplotlib inline"
   ]
  },
  {
   "cell_type": "markdown",
   "metadata": {},
   "source": [
    "The **%matplotlib inline** magic function indicates to jupyter that we want our matplotlib figures to be embedded directly in the notebook. And **%load_ext watermark** loads the watermark extension that is useful to print out the versions of the libraries we'll be using."
   ]
  },
  {
   "cell_type": "code",
   "execution_count": null,
   "metadata": {},
   "outputs": [],
   "source": [
    "%watermark -n -v -m -g -iv"
   ]
  },
  {
   "cell_type": "markdown",
   "metadata": {},
   "source": [
    "Set the default size of all figures to 11x8 inches"
   ]
  },
  {
   "cell_type": "code",
   "execution_count": null,
   "metadata": {},
   "outputs": [],
   "source": [
    "plt.rcParams[\"figure.figsize\"] = (11, 8)"
   ]
  },
  {
   "cell_type": "markdown",
   "metadata": {},
   "source": [
    "## Basic plot"
   ]
  },
  {
   "cell_type": "markdown",
   "metadata": {},
   "source": [
    "For quick and dirty plots, you can just use **plt.plot**. It won't be pretty, but it will get the job done."
   ]
  },
  {
   "cell_type": "code",
   "execution_count": null,
   "metadata": {},
   "outputs": [],
   "source": [
    "x = np.linspace(0, 2*np.pi, 50)\n",
    "y = np.sin(x)"
   ]
  },
  {
   "cell_type": "code",
   "execution_count": null,
   "metadata": {},
   "outputs": [],
   "source": [
    "plt.plot(x, y, '-')"
   ]
  },
  {
   "cell_type": "markdown",
   "metadata": {},
   "source": [
    "Naturally, we can also choose the color of the line to use:"
   ]
  },
  {
   "cell_type": "code",
   "execution_count": null,
   "metadata": {},
   "outputs": [],
   "source": [
    "plt.plot(x, y, 'red')"
   ]
  },
  {
   "cell_type": "markdown",
   "metadata": {},
   "source": [
    "Easily add a legend"
   ]
  },
  {
   "cell_type": "code",
   "execution_count": null,
   "metadata": {},
   "outputs": [],
   "source": [
    "plt.plot(x, y, 'red')\n",
    "plt.legend(['Sin function'])"
   ]
  },
  {
   "cell_type": "markdown",
   "metadata": {},
   "source": [
    "Note that for the legend you just need to provide the text, matplotlib takes care of adding the corresponding lines and symbols. More complex plots can be built by calling the plot function multiple times in sequence:"
   ]
  },
  {
   "cell_type": "code",
   "execution_count": null,
   "metadata": {},
   "outputs": [],
   "source": [
    "plt.plot(x, y, 'r-')\n",
    "plt.plot(x, y, 'b*')\n",
    "plt.legend(['Sin function', 'Data Points'])"
   ]
  },
  {
   "cell_type": "markdown",
   "metadata": {},
   "source": [
    "## Scatter plot"
   ]
  },
  {
   "cell_type": "markdown",
   "metadata": {},
   "source": [
    "Let's do something slightly more serious. We start by loading some data from a csv file using **pandas**.\n",
    "\n",
    "Marriage age data from: https://www.statcrunch.com/5.0/viewreport.php?reportid=41662"
   ]
  },
  {
   "cell_type": "code",
   "execution_count": null,
   "metadata": {},
   "outputs": [],
   "source": [
    "ages = pd.read_csv('data/ages.csv')"
   ]
  },
  {
   "cell_type": "markdown",
   "metadata": {},
   "source": [
    "Let's take a quick look at the data to make sure it is correct."
   ]
  },
  {
   "cell_type": "code",
   "execution_count": null,
   "metadata": {},
   "outputs": [],
   "source": [
    "ages.head()"
   ]
  },
  {
   "cell_type": "code",
   "execution_count": null,
   "metadata": {},
   "outputs": [],
   "source": [
    "ages.shape"
   ]
  },
  {
   "cell_type": "markdown",
   "metadata": {},
   "source": [
    "Here we make a simple scatter plot using the (**plt.scatter***) function. Axis labels are set and the figure is saved to disk at a 300dpi resolution."
   ]
  },
  {
   "cell_type": "code",
   "execution_count": null,
   "metadata": {},
   "outputs": [],
   "source": [
    "plt.scatter(ages['Wife'], ages['Husband'])\n",
    "plt.xlabel(\"Wife\")\n",
    "plt.ylabel(\"Husband\")\n",
    "plt.savefig('data/ages.png', dpi=300)"
   ]
  },
  {
   "cell_type": "markdown",
   "metadata": {},
   "source": [
    "We can also use the jupyter facilities to open the file directly from disk using the command line:"
   ]
  },
  {
   "cell_type": "code",
   "execution_count": null,
   "metadata": {},
   "outputs": [],
   "source": [
    "!ls data/ages.png # Mac Only"
   ]
  },
  {
   "cell_type": "markdown",
   "metadata": {},
   "source": [
    "Naturally, we could also have used the pandas internal plotting functionality. Indeed, pandas, like many other plotting libraries just use matplotlib in the background so you can do things like:"
   ]
  },
  {
   "cell_type": "code",
   "execution_count": null,
   "metadata": {},
   "outputs": [],
   "source": [
    "ages.plot.scatter(x='Wife',y='Husband')"
   ]
  },
  {
   "cell_type": "code",
   "execution_count": null,
   "metadata": {},
   "outputs": [],
   "source": [
    "ax = ages.plot.scatter(x='Wife',y='Husband')\n",
    "ax.set_xlabel(\"Wife's age\")\n",
    "ax.set_ylabel(\"Husband's age\")\n",
    "ax.set_title('Age at marriage')example"
   ]
  },
  {
   "cell_type": "markdown",
   "metadata": {},
   "source": [
    "where we used **plt.gca()** to get a reference to the current Axes object generated by **pandas** that we were then free to customize using standard **matplotlib** commands. "
   ]
  },
  {
   "cell_type": "markdown",
   "metadata": {},
   "source": [
    "We can even add other plots to the axis object returned by **pandas**"
   ]
  },
  {
   "cell_type": "code",
   "execution_count": null,
   "metadata": {},
   "outputs": [],
   "source": [
    "fit_x = np.arange(20,65)\n",
    "fit_y = 3.59+0.97*fit_x\n",
    "\n",
    "ax = ages.plot.scatter(x='Wife',y='Husband')\n",
    "#ax = plt.gca()\n",
    "ax.set_xlabel(\"Wife's age\")\n",
    "ax.set_ylabel(\"Husband's age\")\n",
    "ax.set_title('Age at marriage')\n",
    "ax.plot(fit_x, fit_y, 'r-')\n",
    "ax.legend(['fit', 'data'])"
   ]
  },
  {
   "cell_type": "markdown",
   "metadata": {},
   "source": [
    "## Bar plot"
   ]
  },
  {
   "cell_type": "markdown",
   "metadata": {},
   "source": [
    "**matplotlib** supports several basic types of plots out of the box. To illustrate the bar plot we will use some made up data:"
   ]
  },
  {
   "cell_type": "code",
   "execution_count": null,
   "metadata": {},
   "outputs": [],
   "source": [
    "dataLA = [20, 14, 23]\n",
    "dataSF = [11, 18, 28]\n",
    "\n",
    "pos = np.arange(0, 5, 2)\n",
    "width = 0.5"
   ]
  },
  {
   "cell_type": "markdown",
   "metadata": {},
   "source": [
    "Here we have two different datasets with 3 data points (classes) each. We could simply call **plt.bar** to generate the figure, similarly to what we did just above. In this case, we will take this opportunity to illustrate how to use **subplots** and the figure/axes interface in a relatively simple example. Afterward we will use this same interface to build more sophisticated examples."
   ]
  },
  {
   "cell_type": "code",
   "execution_count": null,
   "metadata": {},
   "outputs": [],
   "source": [
    "fig, ax = plt.subplots(1)\n",
    "fig.set_size_inches(14, 10)\n",
    "\n",
    "ax.bar(pos,       dataLA, width=width, label=\"LA\")\n",
    "ax.bar(pos+width, dataSF, width=width, label=\"SF\")\n",
    "\n",
    "ax.set_ylabel('Count')\n",
    "ax.set_xlabel('Classes')\n",
    "ax.set_xticks(pos + width / 2)\n",
    "ax.set_xticklabels(('A', 'B', 'C'))\n",
    "\n",
    "ax.legend(['Los Angeles', 'San Francisco'])"
   ]
  },
  {
   "cell_type": "markdown",
   "metadata": {},
   "source": [
    "## Pie plot"
   ]
  },
  {
   "cell_type": "markdown",
   "metadata": {},
   "source": [
    "Pie plots are **EVIL**! But just in case you are too... Here we use the **figsize** parameter to **plt.figure** to set the figure size in inches. Notice that this is slightly different than what we did above."
   ]
  },
  {
   "cell_type": "code",
   "execution_count": null,
   "metadata": {},
   "outputs": [],
   "source": [
    "data = [17, 18, 20, 22, 24]\n",
    "\n",
    "fig = plt.figure(figsize=(10, 10))\n",
    "ax = plt.gca()\n",
    "\n",
    "ax.pie(data, labels=data)\n",
    "ax.legend([\"A\", \"B\", \"C\", \"D\", \"E\"])\n",
    "ax.set_title(r'$\\sum_i x_i^2$')"
   ]
  },
  {
   "cell_type": "markdown",
   "metadata": {},
   "source": [
    "## Comparison of Pie and Bar plots"
   ]
  },
  {
   "cell_type": "markdown",
   "metadata": {},
   "source": [
    "As we discussed, you should avoid using pie plots in most cases. This is specially true when the values of each wedge are very similar. To illustrate this point let's make up some data:"
   ]
  },
  {
   "cell_type": "code",
   "execution_count": null,
   "metadata": {},
   "outputs": [],
   "source": [
    "dataA = [17, 18, 20, 22, 24]\n",
    "dataB = [20, 20, 19, 21, 20]\n",
    "dataC = [24, 22, 20, 18, 17]"
   ]
  },
  {
   "cell_type": "markdown",
   "metadata": {},
   "source": [
    "We'll plot these three datasets using both bar and pie plots. As we want to make sure we use the same colors for the corresponding bar/slice, we start by explicitly obtaining the color cycle"
   ]
  },
  {
   "cell_type": "code",
   "execution_count": null,
   "metadata": {},
   "outputs": [],
   "source": [
    "colors = plt.rcParams['axes.prop_cycle'].by_key()['color']\n",
    "print(colors)"
   ]
  },
  {
   "cell_type": "markdown",
   "metadata": {},
   "source": [
    "Now we can supply the right color sequence to use for the bars"
   ]
  },
  {
   "cell_type": "code",
   "execution_count": null,
   "metadata": {},
   "outputs": [],
   "source": [
    "fig, axs = plt.subplots(nrows=2, ncols=3, sharey=False)\n",
    "fig.set_size_inches(14, 10)\n",
    "\n",
    "axs[0][0].pie(dataA, labels=range(5))\n",
    "axs[0][1].pie(dataB, labels=range(5))\n",
    "axs[0][2].pie(dataC, labels=range(5))\n",
    "\n",
    "axs[1][0].bar(x=range(5), height=dataA, color=colors)\n",
    "axs[1][0].set_ylim(0, 25)\n",
    "\n",
    "axs[1][1].bar(x=range(5), height=dataB, color=colors)\n",
    "axs[1][1].set_ylim(0, 25)\n",
    "\n",
    "axs[1][2].bar(x=range(5), height=dataC, color=colors)\n",
    "axs[1][2].set_ylim(0, 25)"
   ]
  },
  {
   "cell_type": "markdown",
   "metadata": {},
   "source": [
    "As you can see, the differences are much more easily seen in the bar plots! This is also a nice illustration of how you can easily combine multiple different subplots into a compelling figure"
   ]
  },
  {
   "cell_type": "markdown",
   "metadata": {},
   "source": [
    "Notice also, that, by default the matplotlib bar function uses the same color for all the bars in the same data series while it uses a different color for each pie slidce. We got around this by setting the colors of each bar manually. To make sure that the colors matched the ones used in the pie plots, we manually obtained the colors from the color cycle that matplotlib lib uses. \n",
    "\n",
    "A similar effect could have been obtained by calling **plt.bar** for each individual bar:"
   ]
  },
  {
   "cell_type": "code",
   "execution_count": null,
   "metadata": {},
   "outputs": [],
   "source": [
    "plt.bar(x=0, height=17)\n",
    "plt.bar(x=1, height=18)\n",
    "plt.bar(x=2, height=20)\n",
    "plt.bar(x=3, height=22)\n",
    "plt.bar(x=4, height=24)"
   ]
  },
  {
   "cell_type": "markdown",
   "metadata": {},
   "source": [
    "## Patches"
   ]
  },
  {
   "cell_type": "markdown",
   "metadata": {},
   "source": [
    "**matplotlib** also includes support for different types of shapes, called **patches**, such as Circle, Rectangle, Arrow, etc.. See https://matplotlib.org/api/patches_api.html for a complete list. Let's make a simple optical illusion using just rectangles."
   ]
  },
  {
   "cell_type": "code",
   "execution_count": null,
   "metadata": {},
   "outputs": [],
   "source": [
    "fig, ax = plt.subplots(1, figsize=(10, 10))\n",
    "#ax = plt.gca()\n",
    "\n",
    "squares = []\n",
    "\n",
    "for i in range(8):\n",
    "    ax.plot([0, 25], [i, i], 'darkgrey')\n",
    "    \n",
    "    for j in range(0, 26, 2):\n",
    "        sq = Rectangle((j+0.5*np.sin((i+1)*np.pi/2), i), 1, 1, fill=True)\n",
    "        squares.append(sq)\n",
    "\n",
    "pc = PatchCollection(squares, facecolor='black', edgecolor='darkgrey')\n",
    "ax.add_collection(pc)\n",
    "ax.axis('off')\n",
    "fig.tight_layout()"
   ]
  },
  {
   "cell_type": "markdown",
   "metadata": {},
   "source": [
    "It should be noted that Patches are not plotted directly. Instead a list of patches is added to a **PatchCollection** object that is then plotted by using **ax.add_collection**. "
   ]
  },
  {
   "cell_type": "markdown",
   "metadata": {},
   "source": [
    "## Bubble plot"
   ]
  },
  {
   "cell_type": "markdown",
   "metadata": {},
   "source": [
    "We've covered the most fundamental functionality of **matplotlib**. With some creativity, we're already able to create some sophisticated types of visualizations. Let's start by loading some data from https://www.gapminder.org/"
   ]
  },
  {
   "cell_type": "code",
   "execution_count": null,
   "metadata": {},
   "outputs": [],
   "source": [
    "data = pd.read_csv('data/gapminder.csv')"
   ]
  },
  {
   "cell_type": "markdown",
   "metadata": {},
   "source": [
    "And define some useful arrays."
   ]
  },
  {
   "cell_type": "code",
   "execution_count": null,
   "metadata": {},
   "outputs": [],
   "source": [
    "colors = np.array([\n",
    "    '#5A6FFA',\n",
    "    '#E60DA1',\n",
    "    \"#7E7E7E\",\n",
    "    \"#B7F025\",\n",
    "    \"#FF9A1E\"])\n",
    "\n",
    "continents = [\n",
    "    'Africa',\n",
    "    'Americas',\n",
    "    'Asia',\n",
    "    'Europe',\n",
    "    'Oceania']"
   ]
  },
  {
   "cell_type": "markdown",
   "metadata": {},
   "source": [
    "Let's take a look at the data"
   ]
  },
  {
   "cell_type": "code",
   "execution_count": null,
   "metadata": {},
   "outputs": [],
   "source": [
    "data.head()"
   ]
  },
  {
   "cell_type": "markdown",
   "metadata": {},
   "source": [
    "As we can see, there are several features associated with each country. Here we will create a Bubble plot to encode all 4 features in a single plot:\n",
    "\n",
    "-  GDP - x-axis, log scale\n",
    "-  Life Expectancy - y-axis, linear scale\n",
    "-  Population - bubble size/area\n",
    "-  Continent - bubble color\n",
    "\n",
    "Finally, we will manually add a legend using **ax.text** to write the name of each continent with the respective color. "
   ]
  },
  {
   "cell_type": "code",
   "execution_count": null,
   "metadata": {},
   "outputs": [],
   "source": [
    "fig = plt.figure()\n",
    "ax = plt.gca()\n",
    "\n",
    "fig.set_size_inches(14, 10)\n",
    "\n",
    "for i in range(5):\n",
    "    continent = data[data['Continent']==i]\n",
    "    \n",
    "    ax.scatter(continent['GDP'], # x-axis\n",
    "               continent['LifeExpectancy'], # y-axis\n",
    "               s=continent['Population']/200000, # Bubble size\n",
    "               c=colors[i], # Bubble color\n",
    "               alpha=0.5) # Transparency\n",
    "\n",
    "ax.set_xscale('log')\n",
    "\n",
    "# Add the legend manually\n",
    "for i in range(len(continents)):\n",
    "    ax.text(300, 83-i*2, continents[i], color=colors[i], fontsize=18)\n",
    "\n",
    "ax.set_xlabel('GDP Per Capita')\n",
    "ax.set_ylabel('Life LifeExpectancy')\n",
    "\n",
    "fig.tight_layout()"
   ]
  },
  {
   "cell_type": "markdown",
   "metadata": {},
   "source": [
    "This kind of plot was made famoous by Hans Rosling, one of the great science communicators of our time, during his Gapminder Foundation work. If you haven't seen it, I highly recommend his [TED talk](https://www.youtube.com/watch?v=hVimVzgtD6w) and his recent (postumous) book [Factfulness: Ten Reasons We're Wrong About the World](https://www.amazon.com/Factfulness-Reasons-Wrong-Things-Better-ebook/dp/B0769XK7D6)"
   ]
  },
  {
   "cell_type": "markdown",
   "metadata": {},
   "source": [
    "## Age pyramid"
   ]
  },
  {
   "cell_type": "markdown",
   "metadata": {},
   "source": [
    "Another well known plot type that we can easily build is age pyramids. Let's start by loading some data:"
   ]
  },
  {
   "cell_type": "code",
   "execution_count": null,
   "metadata": {},
   "outputs": [],
   "source": [
    "pyramid = pd.read_csv('data/pyramid.csv')"
   ]
  },
  {
   "cell_type": "markdown",
   "metadata": {},
   "source": [
    "This is the Mombasa Population Pyramid Age Groups in 2009 we downloaded from: http://www.opendata.go.ke/datasets/55d384fb963a47d2ad9f131240abfb7c_0/data."
   ]
  },
  {
   "cell_type": "code",
   "execution_count": null,
   "metadata": {},
   "outputs": [],
   "source": [
    "pyramid.head()"
   ]
  },
  {
   "cell_type": "code",
   "execution_count": null,
   "metadata": {},
   "outputs": [],
   "source": [
    "fig, axs = plt.subplots(1, 2, sharey=False, sharex=False)\n",
    "axs[0].barh(range(9), pyramid['Male'])\n",
    "axs[1].barh(range(9), pyramid['Female'])\n",
    "\n",
    "axs[0].invert_xaxis()\n",
    "axs[0].set_yticks([])\n",
    "axs[0].set_yticklabels('')\n",
    "\n",
    "axs[1].set_yticks(range(9))\n",
    "axs[1].set_yticklabels(pyramid['Age'])\n",
    "\n",
    "axs[0].set_xlabel('Male')\n",
    "axs[1].set_xlabel('Female')\n",
    "\n",
    "fig.subplots_adjust(wspace=0.18)"
   ]
  },
  {
   "cell_type": "markdown",
   "metadata": {},
   "source": [
    "Here we used **barh** the horizontal version of the bar plots, and **invert_axis** to flip the direction of the *x-axis* in the first subplot."
   ]
  },
  {
   "cell_type": "markdown",
   "metadata": {},
   "source": [
    "## Candle stick plots"
   ]
  },
  {
   "cell_type": "markdown",
   "metadata": {},
   "source": [
    "A very common type of plot in finance is the Candle stick plot. We start by loading weekly values for the DJIA from [Yahoo! Finance](https://finance.yahoo.com/quote/%5EDJI/history?period1=1388552400&period2=1575090000&interval=1wk&filter=history&frequency=1wk)"
   ]
  },
  {
   "cell_type": "code",
   "execution_count": null,
   "metadata": {
    "scrolled": true
   },
   "outputs": [],
   "source": [
    "djia = pd.read_csv('data/DJIA.csv')"
   ]
  },
  {
   "cell_type": "markdown",
   "metadata": {},
   "source": [
    "Let's keep only the last 52 points (1 year) for clarity of the figure"
   ]
  },
  {
   "cell_type": "code",
   "execution_count": null,
   "metadata": {},
   "outputs": [],
   "source": [
    "djia = djia.iloc[-52:]"
   ]
  },
  {
   "cell_type": "code",
   "execution_count": null,
   "metadata": {},
   "outputs": [],
   "source": [
    "djia.head()"
   ]
  },
  {
   "cell_type": "markdown",
   "metadata": {},
   "source": [
    "Candle sticks combine bars and lines to allows to visualize __Open__, __Close__, __High__, and __Low__ values at the same time"
   ]
  },
  {
   "cell_type": "code",
   "execution_count": null,
   "metadata": {},
   "outputs": [],
   "source": [
    "opens = djia['Open'].values\n",
    "closes = djia['Close'].values\n",
    "highs = djia['High'].values\n",
    "lows = djia['Low'].values"
   ]
  },
  {
   "cell_type": "markdown",
   "metadata": {},
   "source": [
    "We start by calculating the change between the open and close values. This will correspond to the height of our bars"
   ]
  },
  {
   "cell_type": "code",
   "execution_count": null,
   "metadata": {},
   "outputs": [],
   "source": [
    "changes = closes-opens"
   ]
  },
  {
   "cell_type": "markdown",
   "metadata": {},
   "source": [
    "Positive changes will be depicted in green and negative changes in red, so we split our dataset."
   ]
  },
  {
   "cell_type": "code",
   "execution_count": null,
   "metadata": {},
   "outputs": [],
   "source": [
    "ups = changes > 0\n",
    "downs = ~ups"
   ]
  },
  {
   "cell_type": "markdown",
   "metadata": {},
   "source": [
    "For convenience we also generate an array for the positions of the bars"
   ]
  },
  {
   "cell_type": "code",
   "execution_count": null,
   "metadata": {},
   "outputs": [],
   "source": [
    "pos = np.arange(djia.shape[0])"
   ]
  },
  {
   "cell_type": "markdown",
   "metadata": {},
   "source": [
    "And define the coordinates of the lines. The line for each candle stick goes from High to Low. We can plot multiple lines at the same time by providing a 2D array of X and Y coordinates to __plt.plot__, in which case, a line will be plotted for each column. We generate these arrays now"
   ]
  },
  {
   "cell_type": "code",
   "execution_count": null,
   "metadata": {},
   "outputs": [],
   "source": [
    "x = np.vstack([pos, pos])\n",
    "y = np.vstack([highs, lows])"
   ]
  },
  {
   "cell_type": "code",
   "execution_count": null,
   "metadata": {},
   "outputs": [],
   "source": [
    "y"
   ]
  },
  {
   "cell_type": "code",
   "execution_count": null,
   "metadata": {},
   "outputs": [],
   "source": [
    "y.shape"
   ]
  },
  {
   "cell_type": "markdown",
   "metadata": {},
   "source": [
    "Finally, we explictly use __zorder__ to make sure that the lines stay __below__ the bars"
   ]
  },
  {
   "cell_type": "code",
   "execution_count": null,
   "metadata": {},
   "outputs": [],
   "source": [
    "fig, ax = plt.subplots(1)\n",
    "\n",
    "ax.bar(x=pos[ups],   height=changes[ups],    bottom=opens[ups],    color='g', zorder=2)\n",
    "ax.bar(x=pos[downs], height=-changes[downs], bottom=closes[downs], color='r', zorder=2)\n",
    "ax.plot(x, y, color='dimgray', zorder=1)\n",
    "\n",
    "ax.set_xticks(pos[::4])\n",
    "ax.set_xticklabels([date[:7] for date in djia['Date'].values[::4]], rotation=90)\n",
    "ax.set_xlabel('Date')\n",
    "ax.set_ylabel('DJIA');"
   ]
  },
  {
   "cell_type": "markdown",
   "metadata": {},
   "source": [
    "## Images"
   ]
  },
  {
   "cell_type": "markdown",
   "metadata": {},
   "source": [
    "Finally, let's take a look at how we can manipulate images. Let's start by reading an image file from disk:"
   ]
  },
  {
   "cell_type": "code",
   "execution_count": null,
   "metadata": {},
   "outputs": [],
   "source": [
    "img=mpimg.imread('data/cambodja.jpg')"
   ]
  },
  {
   "cell_type": "markdown",
   "metadata": {},
   "source": [
    "We can plot it easily using **imshow**"
   ]
  },
  {
   "cell_type": "code",
   "execution_count": null,
   "metadata": {},
   "outputs": [],
   "source": [
    "plt.imshow(img)"
   ]
  },
  {
   "cell_type": "markdown",
   "metadata": {},
   "source": [
    "It's very useful to keep in mind that images are just arrays of numbers."
   ]
  },
  {
   "cell_type": "code",
   "execution_count": null,
   "metadata": {},
   "outputs": [],
   "source": [
    "print(img.dtype, img.shape)"
   ]
  },
  {
   "cell_type": "markdown",
   "metadata": {},
   "source": [
    "In this image we have 3 layers (one for each R, G, and B channels). We can take a look at each channel separately:"
   ]
  },
  {
   "cell_type": "code",
   "execution_count": null,
   "metadata": {},
   "outputs": [],
   "source": [
    "fig, axs = plt.subplots(1, 3)\n",
    "axs[0].imshow(img[:,:,0], cmap=plt.get_cmap('Reds'))\n",
    "axs[0].set_axis_off()\n",
    "\n",
    "axs[1].imshow(img[:,:,1], cmap=plt.get_cmap('Greens'))\n",
    "axs[1].set_axis_off()\n",
    "\n",
    "axs[2].imshow(img[:,:,2], cmap=plt.get_cmap('Blues'))\n",
    "axs[2].set_axis_off()\n",
    "\n",
    "fig.tight_layout()"
   ]
  },
  {
   "cell_type": "markdown",
   "metadata": {},
   "source": [
    "Here, for clarity we are using **set_axis_off()** to remove ticks, labels, etc"
   ]
  },
  {
   "cell_type": "markdown",
   "metadata": {},
   "source": [
    "But we could also create a single two dimensional matrix by hand:"
   ]
  },
  {
   "cell_type": "code",
   "execution_count": null,
   "metadata": {},
   "outputs": [],
   "source": [
    "gradient = np.linspace(0, 1, 256)\n",
    "gradient = np.vstack((gradient, gradient))\n",
    "\n",
    "print(gradient.shape)"
   ]
  },
  {
   "cell_type": "markdown",
   "metadata": {},
   "source": [
    "And to plot it using a specific color map such as **viridis**"
   ]
  },
  {
   "cell_type": "code",
   "execution_count": null,
   "metadata": {},
   "outputs": [],
   "source": [
    "fig, ax = plt.subplots(1)\n",
    "ax.imshow(gradient, aspect='auto', cmap=plt.get_cmap('viridis'))\n",
    "ax.set_axis_off()"
   ]
  },
  {
   "cell_type": "markdown",
   "metadata": {},
   "source": [
    "Since images are just arrays, we can manipulate them as such. Let's start by defining some useful transformation matrices (after https://github.com/MaPePeR/jsColorblindSimulator/blob/master/colorblind.js)."
   ]
  },
  {
   "cell_type": "code",
   "execution_count": null,
   "metadata": {},
   "outputs": [],
   "source": [
    "ColorMatrixMatrixes = {\n",
    " 'Achromatomaly': np.array([[61.8, 32, 6.2],\n",
    "                            [16.3, 77.5, 6.2],\n",
    "                            [16.3, 32, 51.6]])/100,\n",
    "\n",
    " 'Achromatopsia': np.array([[29.9, 58.7, 11.4],\n",
    "                            [29.9, 58.7, 11.4],\n",
    "                            [29.9, 58.7, 11.4]])/100,\n",
    "\n",
    " 'Deuteranomaly': np.array([[80, 20, 0],\n",
    "                            [25.833, 74.167, 0],\n",
    "                            [0, 14.167, 85.833]])/100,\n",
    "\n",
    " 'Deuteranopia': np.array([[62.5, 37.5, 0],\n",
    "                           [70, 30, 0],\n",
    "                           [0, 30, 70]])/100,\n",
    "\n",
    " 'Normal': np.array([[100, 0, 0],\n",
    "                     [0, 100, 0],\n",
    "                     [0, 0, 100]])/100,\n",
    "\n",
    " 'Protanomaly': np.array([[81.667, 18.333, 0],\n",
    "                          [33.333, 66.667, 0],\n",
    "                          [0, 12.5, 87.5]])/100,\n",
    "\n",
    " 'Protanopia': np.array([[56.667, 43.333, 0],\n",
    "                         [55.833, 44.167, 0],\n",
    "                         [0, 24.167, 75.833]])/100,\n",
    "\n",
    " 'Tritanomaly': np.array([[96.667, 3.333, 0],\n",
    "                          [0, 73.333, 26.667],\n",
    "                          [0, 18.333, 81.667]])/100,\n",
    "\n",
    " 'Tritanopia': np.array([[95, 5, 0],\n",
    "                         [0, 43.333, 56.667],\n",
    "                         [0, 47.5, 52.5]])/100\n",
    " }"
   ]
  },
  {
   "cell_type": "markdown",
   "metadata": {},
   "source": [
    "With these transformation matrices we can easily manipulate the image to observe the effect of the different types of color blindness:"
   ]
  },
  {
   "cell_type": "code",
   "execution_count": null,
   "metadata": {},
   "outputs": [],
   "source": [
    "fig, axs = plt.subplots(3, 3, sharex=True, sharey=True)\n",
    "\n",
    "names = sorted(ColorMatrixMatrixes.keys())\n",
    "\n",
    "for i in range(len(names)):\n",
    "    version = names[i]\n",
    "    transformation = ColorMatrixMatrixes[version]\n",
    "\n",
    "    img_flat = img.reshape(img.shape[0] * img.shape[1], 3)\n",
    "    new_img_array = np.dot(img_flat, transformation.T).astype(img.dtype)\n",
    "    new_img = new_img_array.reshape(img.shape)\n",
    "\n",
    "    row = i//3\n",
    "    col = i%3\n",
    "    \n",
    "    axs[row][col].imshow(new_img)\n",
    "    axs[row][col].set_title(version)\n",
    "    axs[row][col].axis('off')\n",
    "\n",
    "fig.subplots_adjust(hspace=0.1, wspace=0.1)\n",
    "\n",
    "fig.set_size_inches(9, 12)\n",
    "fig.tight_layout()"
   ]
  },
  {
   "cell_type": "markdown",
   "metadata": {},
   "source": [
    "<div style=\"width: 100%; overflow: hidden;\">\n",
    "     <img src=\"data/D4Sci_logo_full.png\" alt=\"Data For Science, Inc\" align=\"center\" border=\"0\" width=300px> \n",
    "</div>"
   ]
  }
 ],
 "metadata": {
  "anaconda-cloud": {},
  "kernelspec": {
   "display_name": "Python 3 (ipykernel)",
   "language": "python",
   "name": "python3"
  },
  "language_info": {
   "codemirror_mode": {
    "name": "ipython",
    "version": 3
   },
   "file_extension": ".py",
   "mimetype": "text/x-python",
   "name": "python",
   "nbconvert_exporter": "python",
   "pygments_lexer": "ipython3",
   "version": "3.10.4"
  },
  "toc": {
   "base_numbering": 1,
   "nav_menu": {},
   "number_sections": true,
   "sideBar": true,
   "skip_h1_title": true,
   "title_cell": "Table of Contents",
   "title_sidebar": "Contents",
   "toc_cell": false,
   "toc_position": {},
   "toc_section_display": true,
   "toc_window_display": false
  },
  "varInspector": {
   "cols": {
    "lenName": 16,
    "lenType": 16,
    "lenVar": 40
   },
   "kernels_config": {
    "python": {
     "delete_cmd_postfix": "",
     "delete_cmd_prefix": "del ",
     "library": "var_list.py",
     "varRefreshCmd": "print(var_dic_list())"
    },
    "r": {
     "delete_cmd_postfix": ") ",
     "delete_cmd_prefix": "rm(",
     "library": "var_list.r",
     "varRefreshCmd": "cat(var_dic_list()) "
    }
   },
   "types_to_exclude": [
    "module",
    "function",
    "builtin_function_or_method",
    "instance",
    "_Feature"
   ],
   "window_display": false
  }
 },
 "nbformat": 4,
 "nbformat_minor": 2
}
