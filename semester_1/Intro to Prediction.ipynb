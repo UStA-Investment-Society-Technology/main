{
 "cells": [
  {
   "cell_type": "markdown",
   "id": "24499424",
   "metadata": {},
   "source": [
    "## Writing basic machine learning models ##\n",
    "This Jupyter notebook will use an example diabetes dataset to demonstrate linear regression, and the Iris dataset for decision trees and random forests. The notebook will also look to outline the fundamentals of programming for Machine Learning. If there are any problems with this notebook, please email me at ab550@st-andrews.ac.uk."
   ]
  },
  {
   "cell_type": "markdown",
   "id": "d6f2b1a1",
   "metadata": {},
   "source": [
    "### Linear Regression ###"
   ]
  },
  {
   "cell_type": "code",
   "execution_count": 1,
   "id": "58c80bec",
   "metadata": {},
   "outputs": [
    {
     "name": "stdout",
     "output_type": "stream",
     "text": [
      "Shape of input: (442, 10)\n",
      "Shape of output: (442,)\n"
     ]
    }
   ],
   "source": [
    "# scikit-learn is an ML library with various algorithms\n",
    "from sklearn import datasets\n",
    "X, y = datasets.load_diabetes(return_X_y = True, as_frame = True)\n",
    "\n",
    "# Check the shape of input and output\n",
    "# Observe the structure\n",
    "print(\"Shape of input: \" + str(X.shape))\n",
    "print(\"Shape of output: \" + str(y.shape))"
   ]
  },
  {
   "cell_type": "code",
   "execution_count": 2,
   "id": "b1574c75",
   "metadata": {},
   "outputs": [
    {
     "name": "stdout",
     "output_type": "stream",
     "text": [
      "Index(['age', 'sex', 'bmi', 'bp', 's1', 's2', 's3', 's4', 's5', 's6'], dtype='object')\n",
      "age    float64\n",
      "sex    float64\n",
      "bmi    float64\n",
      "bp     float64\n",
      "s1     float64\n",
      "s2     float64\n",
      "s3     float64\n",
      "s4     float64\n",
      "s5     float64\n",
      "s6     float64\n",
      "dtype: object\n"
     ]
    }
   ],
   "source": [
    "# print title and data type of column\n",
    "print(X.columns)\n",
    "print(X.dtypes)"
   ]
  },
  {
   "cell_type": "code",
   "execution_count": 3,
   "id": "3506f4a7",
   "metadata": {},
   "outputs": [
    {
     "data": {
      "text/plain": [
       "age    False\n",
       "sex    False\n",
       "bmi    False\n",
       "bp     False\n",
       "s1     False\n",
       "s2     False\n",
       "s3     False\n",
       "s4     False\n",
       "s5     False\n",
       "s6     False\n",
       "dtype: bool"
      ]
     },
     "execution_count": 3,
     "metadata": {},
     "output_type": "execute_result"
    }
   ],
   "source": [
    "# check if columns have any NaN values\n",
    "X.isna().any()"
   ]
  },
  {
   "cell_type": "markdown",
   "id": "1483faff",
   "metadata": {},
   "source": [
    "Check the shape of input and output to observe the general structure of the dataset. The shape is represented as the (number of rows, number of columns). The number of rows represents the number of cases in the dataset, and it should be the same for both input and output. \n",
    "\n",
    "The number of columns for the input represents the number of features, and the number of columns for the output represents the number of target variables. In general, the output only has 1 column. Reformat the dataset into formats that are ideal for your model if it isn't already and do further data processing, if necessary, with Pandas and Numpy.\n",
    "\n",
    "If the shape of both input and output are good, the dataset can be split into training and testing. The model learns from the training dataset, and we evaluate its performance with the testing dataset."
   ]
  },
  {
   "cell_type": "code",
   "execution_count": 35,
   "id": "9b9602c6",
   "metadata": {},
   "outputs": [
    {
     "name": "stdout",
     "output_type": "stream",
     "text": [
      "Shape of training input: (309, 10)\n",
      "Shape of testing input: (133, 10)\n",
      "Shape of training output: (309,)\n",
      "Shape of testing output: (133,)\n"
     ]
    }
   ],
   "source": [
    "# Training dataset gets ~80% of cases, Testing gets ~20%\n",
    "from sklearn.model_selection import train_test_split\n",
    "X_train, X_test, y_train, y_test = train_test_split(X, y, train_size = 0.70, random_state = 32)\n",
    "\n",
    "print(\"Shape of training input: \" + str(X_train.shape))\n",
    "print(\"Shape of testing input: \" + str(X_test.shape))\n",
    "print(\"Shape of training output: \" + str(y_train.shape))\n",
    "print(\"Shape of testing output: \" + str(y_test.shape))"
   ]
  },
  {
   "cell_type": "code",
   "execution_count": 36,
   "id": "fb92b2f1",
   "metadata": {},
   "outputs": [
    {
     "name": "stdout",
     "output_type": "stream",
     "text": [
      "RMSE: 52.30111625121456\n",
      "R2: 0.49670590024012307\n"
     ]
    }
   ],
   "source": [
    "# Create a linear regression model\n",
    "from sklearn.linear_model import LinearRegression\n",
    "from sklearn.metrics import mean_squared_error, r2_score\n",
    "\n",
    "lin_reg = LinearRegression()\n",
    "\n",
    "# Model learns from training dataset\n",
    "lin_reg.fit(X_train, y_train)\n",
    "\n",
    "# Model tries to predict testing dataset\n",
    "y_predictions_lr = lin_reg.predict(X_test)\n",
    "\n",
    "# Find the error of the model (RMSE, R2)\n",
    "rmse = mean_squared_error(y_test, y_predictions_lr, squared = False)\n",
    "print(\"RMSE: \" + str(rmse))\n",
    "r2 = r2_score(y_test, y_predictions_lr)\n",
    "print(\"R2: \" + str(r2))"
   ]
  },
  {
   "cell_type": "markdown",
   "id": "c51ecf16",
   "metadata": {},
   "source": [
    "An R-squared score of 0.54 shows that the model is somewhat accurate in prediction. Let's move on to Decision Trees and solve a classification problem with it."
   ]
  },
  {
   "cell_type": "markdown",
   "id": "e51c012e",
   "metadata": {},
   "source": [
    "### Decision Tree ###\n",
    "The section will be using the Iris flowers dataset."
   ]
  },
  {
   "cell_type": "code",
   "execution_count": 41,
   "id": "cdf063f4",
   "metadata": {},
   "outputs": [],
   "source": [
    "from sklearn import datasets\n",
    "from sklearn.model_selection import train_test_split\n",
    "from sklearn.metrics import mean_squared_error, f1_score\n",
    "\n",
    "X, y = datasets.load_iris(return_X_y = True, as_frame = True)\n",
    "X_train, X_test, y_train, y_test = train_test_split(X, y, train_size = 0.70, random_state = 32)"
   ]
  },
  {
   "cell_type": "code",
   "execution_count": 44,
   "id": "c40ff022",
   "metadata": {},
   "outputs": [
    {
     "name": "stdout",
     "output_type": "stream",
     "text": [
      "RMSE: 0.5577733510227171\n",
      "F1: 0.5906432748538012\n"
     ]
    }
   ],
   "source": [
    "from sklearn.tree import DecisionTreeClassifier\n",
    "\n",
    "# Try to write the decision tree classifier method\n",
    "dt_clf = DecisionTreeClassifier(min_samples_split = 80, max_features = 'auto', random_state = 32)\n",
    "dt_clf.fit(X_train, y_train)\n",
    "\n",
    "y_predictions_dt = dt_clf.predict(X_test)\n",
    "\n",
    "# Find the error of the model (RMSE, F1)\n",
    "rmse = mean_squared_error(y_test, y_predictions_dt, squared = False)\n",
    "print(\"RMSE: \" + str(rmse))\n",
    "f1 = f1_score(y_test, y_predictions_dt, average = 'weighted')\n",
    "print(\"F1: \" + str(f1))"
   ]
  },
  {
   "cell_type": "markdown",
   "id": "5689df21",
   "metadata": {},
   "source": [
    "An F1 score of 0.59 means that the model is somewhat accurate in prediction. Let's try with Random Forest."
   ]
  },
  {
   "cell_type": "markdown",
   "id": "f457df19",
   "metadata": {},
   "source": [
    "### Random Forest ###"
   ]
  },
  {
   "cell_type": "code",
   "execution_count": 54,
   "id": "aa82e62f",
   "metadata": {},
   "outputs": [
    {
     "name": "stdout",
     "output_type": "stream",
     "text": [
      "RMSE: 0.0\n",
      "F1: 1.0\n"
     ]
    }
   ],
   "source": [
    "from sklearn.ensemble import RandomForestClassifier\n",
    "rf_clf = RandomForestClassifier(random_state = 32)\n",
    "rf_clf.fit(X_train, y_train)\n",
    "\n",
    "y_predictions_rf = rf_reg.predict(X_test)\n",
    "\n",
    "# Find the error of the model (RMSE, F1)\n",
    "rmse = mean_squared_error(y_test, y_predictions_rf, squared = False)\n",
    "print(\"RMSE: \" + str(rmse))\n",
    "f1 = f1_score(y_test, y_predictions_rf, average = 'weighted')\n",
    "print(\"F1: \" + str(f1))"
   ]
  },
  {
   "cell_type": "markdown",
   "id": "af6b3604",
   "metadata": {},
   "source": [
    "An F1 score of 1.00 means that the model predicts perfectly. This isn't normal at all, and it can largely be explained by the fact that the testing dataset is small (<50 samples). Generally, a good F1 score to target for regression is 0.70.\n",
    "\n",
    "We would encourage you to play around with some of the models and experiment with them. You can also find datasets from online, do EDA, and try to use one of these models on the dataset.\n",
    "\n",
    "Enjoy!"
   ]
  },
  {
   "cell_type": "code",
   "execution_count": null,
   "id": "c3c6f5bc",
   "metadata": {},
   "outputs": [],
   "source": []
  }
 ],
 "metadata": {
  "kernelspec": {
   "display_name": "Python 3 (ipykernel)",
   "language": "python",
   "name": "python3"
  },
  "language_info": {
   "codemirror_mode": {
    "name": "ipython",
    "version": 3
   },
   "file_extension": ".py",
   "mimetype": "text/x-python",
   "name": "python",
   "nbconvert_exporter": "python",
   "pygments_lexer": "ipython3",
   "version": "3.9.12"
  }
 },
 "nbformat": 4,
 "nbformat_minor": 5
}
