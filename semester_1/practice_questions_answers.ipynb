{
 "cells": [
  {
   "cell_type": "markdown",
   "id": "401eea45",
   "metadata": {},
   "source": [
    "# Practice Question 1"
   ]
  },
  {
   "cell_type": "code",
   "execution_count": null,
   "id": "b2588628",
   "metadata": {},
   "outputs": [],
   "source": [
    "import yfinance as yf\n",
    "\n",
    "DJI_info = yf.Ticker(\"^DJI\")\n",
    "DJI_stock_data = yf.download(\"^DJI\", start=\"2007-01-01\", end=\"2010-01-01\")\n",
    "DJI_min = min(DJI_stock_data.Low)\n",
    "DJI_min_date = DJI_stock_data[DJI_stock_data.Low == DJI_min].index.format()[0] # this line may vary\n",
    "print(f\"\"\"The lowest value for the Dow Jones was {DJI_min} and this happened on {DJI_min_date}\"\"\")"
   ]
  },
  {
   "cell_type": "markdown",
   "id": "24b04cbc",
   "metadata": {},
   "source": [
    "# Practice Question 2"
   ]
  },
  {
   "cell_type": "code",
   "execution_count": null,
   "id": "9f00b368",
   "metadata": {},
   "outputs": [],
   "source": [
    "import yfinance as yf\n",
    "\n",
    "ticker_info = yf.Ticker(\"AAPL\")\n",
    "institutional_holders_df = ticker_info.institutional_holders.set_index('Holder')\n",
    "institutional_holders_df.plot.pie(y=\"Value\", figsize=(10,10))"
   ]
  },
  {
   "cell_type": "markdown",
   "id": "f34fb934",
   "metadata": {},
   "source": [
    "# Practice Question 3"
   ]
  },
  {
   "cell_type": "code",
   "execution_count": null,
   "id": "d87d9f26",
   "metadata": {},
   "outputs": [],
   "source": [
    "import pandas as pd\n",
    "from bs4 import BeautifulSoup\n",
    "import requests\n",
    "import matplotlib.pyplot as plt\n",
    "\n",
    "def fundamental_metric(soup, metric : str) -> str:\n",
    "    return soup.find(text = metric).find_next(class_='snapshot-td2').text\n",
    "\n",
    "def get_fundamental_data(df : pd.DataFrame) -> pd.DataFrame:\n",
    "    for symbol in df.index:\n",
    "        try:\n",
    "            url = (\"http://finviz.com/quote.ashx?t=\" + symbol)\n",
    "            soup = BeautifulSoup(requests.get(url, headers={\"user-agent\": \"Mozilla/5.0 (Windows NT 10.0; Win64; x64) AppleWebKit/537.36 (KHTML, like Gecko) Chrome/92.0.4515.159 Safari/537.36\"}).content, \"html.parser\", ) \n",
    "            for m in df.columns: \n",
    "                    df.loc[symbol,m] = fundamental_metric(soup,m)\n",
    "        except Exception as e:\n",
    "            print(f\"\"\"Exception {e}\"\"\")\n",
    "            return None\n",
    "    return df.astype(float)\n",
    "\n",
    "stock_list = ['MSFT','AAPL','GOOGL']\n",
    "metrics = ['P/E','PEG','P/B']\n",
    "\n",
    "df = pd.DataFrame(index=stock_list,columns=metrics) # Creates a dataframe to store data in\n",
    "df.index.name = \"Stock\"\n",
    "df = get_fundamental_data(df) # Runs function to fill dataframe with data\n",
    "\n",
    "fig, axs = plt.subplots(nrows=1, ncols=3,sharex=False)\n",
    "fig.set_size_inches(14,10)\n",
    "fig.suptitle(\"Valuation metrics comparisons for Microsoft, Apple and Google\",\n",
    "            fontsize=20)\n",
    "axs[0].bar(height=df['P/E'],x=df.index, color=['g','b','r'])\n",
    "axs[0].set_title('P/E comparison')\n",
    "\n",
    "axs[1].bar(height=df['PEG'],x=df.index, color=['g','b','r'])\n",
    "axs[1].set_title('PEG comparison')\n",
    "\n",
    "axs[2].bar(height=df['P/B'],x=df.index, color=['g','b','r'])\n",
    "axs[2].set_title('P/B comparison')\n",
    "\n",
    "fig.savefig(\"Q4_bar_charts.png\")"
   ]
  },
  {
   "cell_type": "markdown",
   "id": "e36e9bc5",
   "metadata": {},
   "source": [
    "The code above provides all the ratios, in addition it gives a useful infographic which could be used during a pitch to illustrate a point. No interprettation is given in the solution as the primary role for a quant is to find data and present it in an understandable format. However, you should understand what metrics are used for so graphics are appropriate."
   ]
  }
 ],
 "metadata": {
  "kernelspec": {
   "display_name": "Python 3 (ipykernel)",
   "language": "python",
   "name": "python3"
  },
  "language_info": {
   "codemirror_mode": {
    "name": "ipython",
    "version": 3
   },
   "file_extension": ".py",
   "mimetype": "text/x-python",
   "name": "python",
   "nbconvert_exporter": "python",
   "pygments_lexer": "ipython3",
   "version": "3.11.4"
  }
 },
 "nbformat": 4,
 "nbformat_minor": 5
}
