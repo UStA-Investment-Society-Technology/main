{
 "cells": [
  {
   "cell_type": "markdown",
   "id": "44260cb7",
   "metadata": {},
   "source": [
    "# Financial Ratios (Data Scraping)\n",
    "In this secton we will look at how to collect up-to-date financial ratios using:\n",
    "\n",
    "- [Requests](https://pypi.org/project/requests/) - To fetch our data.\n",
    "\n",
    "- [BeautifulSoup](https://www.crummy.com/software/BeautifulSoup/bs4/doc/) - To process our date\n",
    "\n",
    "This is a very short section, however there is lots to learn. Make sure to look through an [example FinViz page](https://finviz.com/quote.ashx?t=AAPL) to see what information we have availble.\n",
    "\n",
    "Using requests can be seen as a more general approach to what we did with yfinance. Instead of using just one site (in yfinance case Yahoo Finance) we can access any site and scrape data, but this means more 'tweaking' can be needed."
   ]
  },
  {
   "cell_type": "code",
   "execution_count": null,
   "id": "2c543d9f",
   "metadata": {},
   "outputs": [],
   "source": [
    "# Import our libraries\n",
    "import pandas as pd\n",
    "# from urllib.request import urlopen, Request# To extract fundamental data\n",
    "from bs4 import BeautifulSoup\n",
    "import requests"
   ]
  },
  {
   "cell_type": "markdown",
   "id": "aa9487bc",
   "metadata": {},
   "source": [
    "Set up datascraper functions"
   ]
  },
  {
   "cell_type": "code",
   "execution_count": null,
   "id": "f24c0149",
   "metadata": {},
   "outputs": [],
   "source": [
    "# Function to find the metric we are after in the 'soup'\n",
    "def fundamental_metric(soup, metric : str) -> str:\n",
    "    # Finds our metric in the soup and then collects the text next to it\n",
    "    return soup.find(text = metric).find_next(class_='snapshot-td2').text\n",
    "\n",
    "# Function to download our 'soup' and process it\n",
    "def get_fundamental_data(df : pd.DataFrame) -> pd.DataFrame:\n",
    "    # Loop through  required symbols\n",
    "    for symbol in df.index:\n",
    "        # Try to collect data for symbol given\n",
    "        try:\n",
    "            url = (\"http://finviz.com/quote.ashx?t=\" + symbol)\n",
    "            # requests collects the data\n",
    "            # headers is used to config webpage\n",
    "            # See docs for more info\n",
    "            soup = BeautifulSoup(requests.get(url, headers={\"user-agent\": \"Mozilla/5.0 (Windows NT 10.0; Win64; x64) AppleWebKit/537.36 (KHTML, like Gecko) Chrome/92.0.4515.159 Safari/537.36\"}).content, \"html.parser\", ) \n",
    "            # Loop through for each metric\n",
    "            for m in df.columns: \n",
    "                    # Fill entry with scraped metric\n",
    "                    df.loc[symbol,m] = fundamental_metric(soup,m)\n",
    "        # If unable to scrape data\n",
    "        except Exception as e:\n",
    "            print(f\"\"\"Exception {e}\"\"\")\n",
    "            return None\n",
    "    return df"
   ]
  },
  {
   "cell_type": "markdown",
   "id": "fb8e725d",
   "metadata": {},
   "source": [
    "Let's test the scraper!"
   ]
  },
  {
   "cell_type": "code",
   "execution_count": null,
   "id": "0593baac",
   "metadata": {},
   "outputs": [],
   "source": [
    "stock_list : list = ['AAPL','MSFT']\n",
    "metric : list = ['P/B','P/E'] # See example webpage above for metrics available"
   ]
  },
  {
   "cell_type": "code",
   "execution_count": null,
   "id": "b6c609d0",
   "metadata": {
    "scrolled": true
   },
   "outputs": [],
   "source": [
    "df = pd.DataFrame(index=stock_list,columns=metric) # Creates a dataframe to store data in\n",
    "df.index.name = \"Stock\"\n",
    "df = get_fundamental_data(df) # Runs function to fill dataframe with data\n",
    "df # Display df"
   ]
  },
  {
   "cell_type": "code",
   "execution_count": null,
   "id": "2e47f9ca",
   "metadata": {},
   "outputs": [],
   "source": [
    "df.to_csv(\"stock_metrics.csv\")"
   ]
  },
  {
   "cell_type": "markdown",
   "id": "75c119e4",
   "metadata": {},
   "source": [
    "To make sure everything is working and uptodate look at the webpage for yourself!"
   ]
  },
  {
   "cell_type": "markdown",
   "id": "10a45cf5",
   "metadata": {},
   "source": [
    "## Summary\n",
    "In this section we learnt how to scrape data to give financial metrics for a given ticker."
   ]
  },
  {
   "cell_type": "markdown",
   "id": "d2d0592f",
   "metadata": {},
   "source": [
    "## Practice Question 3\n",
    "Compare valuation ratios of Microsoft, Google and Apple using the above functions. \n",
    "\n",
    "Imagine your analysis will be used in a stock pitch, so think carefully about how you can summarise/display the data.\n",
    "\n",
    "For information about Valuation Ratios see the ATP Module 1 pg 21 as well as using your own knowledge. \n",
    "\n",
    "[Solution](http://localhost:8888/notebooks/sector_quantitative_analysts/practice_questions_answers.ipynb#Practice-Question-3)"
   ]
  },
  {
   "cell_type": "code",
   "execution_count": null,
   "id": "dbba4895",
   "metadata": {},
   "outputs": [],
   "source": []
  }
 ],
 "metadata": {
  "kernelspec": {
   "display_name": "Python 3 (ipykernel)",
   "language": "python",
   "name": "python3"
  },
  "language_info": {
   "codemirror_mode": {
    "name": "ipython",
    "version": 3
   },
   "file_extension": ".py",
   "mimetype": "text/x-python",
   "name": "python",
   "nbconvert_exporter": "python",
   "pygments_lexer": "ipython3",
   "version": "3.10.6"
  }
 },
 "nbformat": 4,
 "nbformat_minor": 5
}
