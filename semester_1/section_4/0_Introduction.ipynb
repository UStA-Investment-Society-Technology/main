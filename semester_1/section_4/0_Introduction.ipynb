{
 "cells": [
  {
   "cell_type": "markdown",
   "metadata": {},
   "source": [
    "# Introduction"
   ]
  },
  {
   "cell_type": "markdown",
   "metadata": {},
   "source": [
    "These Jupyter notebooks are intended to be used as a way to familiarise yourself with different ways to fetch stock data and manipulate it. Each notebook will explore a different section that you may find useful in the future. Feel free to make improvements and correct any issues.\n",
    "\n",
    "Please note that throughout these I will try to the best of my ability to follow good coding practice for Python, as set out in <href>[PEP 8 Styling Guide for Python](https://peps.python.org/pep-0008/)</href>, and also include type hinting and descriptions regularly to aid understanding. For your own code you <b>DON'T</b> need to include so much detail."
   ]
  },
  {
   "cell_type": "markdown",
   "metadata": {},
   "source": [
    "# Modules"
   ]
  },
  {
   "cell_type": "markdown",
   "metadata": {},
   "source": [
    "The main modules that will be used in these notebook books are: <ul>\n",
    "    <li><href>[Pandas](https://pandas.pydata.org/)</href> (and variants) - For dataframe handling.</li>\n",
    "    <li><href>[Matplotlib](https://matplotlib.org/) - For displaying data.</href></li>\n",
    "    <li><href>[Numpy](https://numpy.org/) - To support pandas and also needed for mathematics.</href></li>\n",
    "    <li><href>[SciKit-Learn](https://scikit-learn.org/stable/) - To model the data.</href></li>\n",
    "    <li><href>[Yahoo Finance](https://pypi.org/project/yfinance/) - To get the data.</href></li>\n",
    "</ul>"
   ]
  },
  {
   "cell_type": "code",
   "execution_count": null,
   "metadata": {},
   "outputs": [],
   "source": [
    "# So to start lets import these\n",
    "import pandas as pd\n",
    "import matplotlib as mpl\n",
    "import numpy as np\n",
    "import yfinance as yf\n",
    "import sklearn"
   ]
  },
  {
   "cell_type": "code",
   "execution_count": null,
   "metadata": {},
   "outputs": [],
   "source": [
    "# Some other standard packages that will come in handy later on...\n",
    "import datetime"
   ]
  },
  {
   "cell_type": "markdown",
   "metadata": {},
   "source": [
    "So the first thing to do is fetch some stock data"
   ]
  },
  {
   "cell_type": "markdown",
   "metadata": {},
   "source": [
    "## Example 0.1 - Fetching ticker data and brief analysis ##"
   ]
  },
  {
   "cell_type": "code",
   "execution_count": null,
   "metadata": {},
   "outputs": [],
   "source": [
    "# Find a ticker of a company you're interested in\n",
    "chosen_ticker : str = 'AAPL'\n",
    "    \n",
    "ticker = yf.Ticker(chosen_ticker)\n",
    "# How far back do you want to go? \n",
    "number_of_days : int = 365\n",
    "# Sample of data\n",
    "sample_rate : str = '1d' # supported values [1m, 2m, 5m, 15m, 30m, 60m, 90m, 1h, 1d, 5d, 1wk, 1mo, 3mo ]\n",
    "# Note the format of 'variable : type = value' is simply for added detail, 'varaible = value' would sufice."
   ]
  },
  {
   "cell_type": "code",
   "execution_count": null,
   "metadata": {},
   "outputs": [],
   "source": [
    "# Lets find the period we want data from \n",
    "start_date = (datetime.date.today() - datetime.timedelta(number_of_days)) \n",
    "end_date = datetime.datetime.today()"
   ]
  },
  {
   "cell_type": "code",
   "execution_count": null,
   "metadata": {},
   "outputs": [],
   "source": [
    "# Download the required data\n",
    "data : pd.DataFrame = yf.download(chosen_ticker, start=start_date, end=end_date, interval=sample_rate)"
   ]
  },
  {
   "cell_type": "code",
   "execution_count": null,
   "metadata": {},
   "outputs": [],
   "source": [
    "# Let's take a look at the data.\n",
    "data.tail(10)"
   ]
  },
  {
   "cell_type": "markdown",
   "metadata": {},
   "source": [
    "How much has it changed since `number_of_days` ago?"
   ]
  },
  {
   "cell_type": "markdown",
   "metadata": {},
   "source": [
    "Using (Value<sub>today</sub> - Value<sub>initial</sub>) / Value<sub>initial</sub>"
   ]
  },
  {
   "cell_type": "code",
   "execution_count": null,
   "metadata": {},
   "outputs": [],
   "source": [
    "# Using value at close we get\n",
    "v_today = float(data.tail(1).Close)\n",
    "v_intial = float(data.head(1).Close)\n",
    "change = (v_today-v_intial)/v_intial\n",
    "percentage_change = 100 * change\n",
    "percentage_change_2dp = round(percentage_change, 2)\n",
    "print(f\"Percentage change of stock from this time {number_of_days} days ago is {percentage_change_2dp}%\")"
   ]
  },
  {
   "cell_type": "markdown",
   "metadata": {},
   "source": [
    "Let's take a quick look at how the stock price has varied."
   ]
  },
  {
   "cell_type": "code",
   "execution_count": null,
   "metadata": {},
   "outputs": [],
   "source": [
    "data.Close.plot(ylabel=f\"{chosen_ticker} stock price ({ticker.info['currency']})\", xlabel=\"Date\", title=f\"Stock price of {chosen_ticker} over {number_of_days} days\")"
   ]
  },
  {
   "cell_type": "markdown",
   "metadata": {},
   "source": [
    "*Note the 'ticker.info['currency']' comes from above when we chose our ticker*"
   ]
  },
  {
   "cell_type": "markdown",
   "metadata": {},
   "source": [
    "Well done you have now just fetched stock data and performed basic analysis on the output!"
   ]
  },
  {
   "cell_type": "markdown",
   "metadata": {},
   "source": [
    "*This folder of notebooks was created and is maintained by John Belcher-Heath (@jbh6)*"
   ]
  },
  {
   "cell_type": "code",
   "execution_count": null,
   "metadata": {},
   "outputs": [],
   "source": []
  }
 ],
 "metadata": {
  "kernelspec": {
   "display_name": "Python 3 (ipykernel)",
   "language": "python",
   "name": "python3"
  },
  "language_info": {
   "codemirror_mode": {
    "name": "ipython",
    "version": 3
   },
   "file_extension": ".py",
   "mimetype": "text/x-python",
   "name": "python",
   "nbconvert_exporter": "python",
   "pygments_lexer": "ipython3",
   "version": "3.10.4"
  }
 },
 "nbformat": 4,
 "nbformat_minor": 4
}
