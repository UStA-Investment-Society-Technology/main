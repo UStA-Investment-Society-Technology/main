{
 "cells": [
  {
   "cell_type": "markdown",
   "id": "9c3b2894",
   "metadata": {},
   "source": [
    "# Semester 2 Project"
   ]
  },
  {
   "cell_type": "markdown",
   "id": "29b00415",
   "metadata": {},
   "source": [
    "Welcome back tech analyst to semester 2! After completing last semester's notebooks with the help of the drop-in sessions, as well as your own study, you are probably wondering now how you can apply these skills in a financial environment. \n",
    "\n",
    "The goal for this semester is for each of you to create your own complete quatitative analysis of a stock of your choosing, this will be for the audience of a non-technical investor, with the aim to help inform their decision on a stock. For this you will need to combine the skills learnt in Python along with the knowledge from the ATP(Analyst Training Programme) slides available on the [Investment Society website](https://www.sta-investsoc.com/atp) (don't worry if you haven't read through these yet).\n",
    "\n",
    "The idea of this project is to give each of you a tangile piece of work, for something similar to what you may do in quant role. The semester will run by having drop-in Python sessions Thursdays (even weeks) and Tuesdays (odd weeks) 17.00-18.00 where you can come by and ask for any help or pointers for your project. By then end of the semester everyone should have a piece of work suitable to show to potential employers and talk about in applications.\n",
    "\n",
    "Your analysis can be carried out however you want to, but loosely the different section should resemble something like this:\n",
    "\n",
    "- Data aquirement\n",
    "- Data wrangling\n",
    "- Preliminary numerical and visual analysis\n",
    "- Visual analysis, supported by numerical values\n",
    "- Short summary of the stock including useful graphs and numerical values to inform the investor\n",
    "\n",
    "Some things to remember when analysing data are :\n",
    "- Understanding and either removing or replacing NA values.\n",
    "- Checking source is up to date\n",
    "- Is data exact values or summary values\n",
    "- What values can some ratios take (HINT: this could be used to make automatic evalutations on stocks)\n",
    "- What plots are appropriate for the values you are displaying\n",
    "- UNITS!!!!!\n",
    "\n",
    "This project can be taken any way you want, but some ideas you could use to apply your knowledge could be: using automatic thresholds to evaluate ratios, have certain characterstics analysed for certain industries (some companies operate in different ways to others), when historical points skew most recent data remove points after certain time period, introduce returns and analyse variance, compare to competitors in a meaningful way. These are just some examples of what you can code to create a smart stock analysis program.\n",
    "\n",
    "### REMEMBER - the audience is an investor with finanical knowledge but basic technical knowledge, when designing an interface (this can just be a notebook), any values needing to be changed should be explained and basic to understand"
   ]
  }
 ],
 "metadata": {
  "kernelspec": {
   "display_name": "Python 3 (ipykernel)",
   "language": "python",
   "name": "python3"
  },
  "language_info": {
   "codemirror_mode": {
    "name": "ipython",
    "version": 3
   },
   "file_extension": ".py",
   "mimetype": "text/x-python",
   "name": "python",
   "nbconvert_exporter": "python",
   "pygments_lexer": "ipython3",
   "version": "3.10.6"
  }
 },
 "nbformat": 4,
 "nbformat_minor": 5
}
