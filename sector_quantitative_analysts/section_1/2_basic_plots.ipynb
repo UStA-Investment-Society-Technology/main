{
 "cells": [
  {
   "cell_type": "markdown",
   "id": "b527cc2e",
   "metadata": {},
   "source": [
    "# Basic Plots #"
   ]
  },
  {
   "cell_type": "markdown",
   "id": "80d4d3d7",
   "metadata": {},
   "source": [
    "This will be purely an example notebook of how you could display stock data. It will assume you have a good understanding of using matplotlib, if you haven't veiw the [intro matplotlib doc](http://localhost:8888/notebooks/python_intro_docs/6_matplotlib.ipynb)."
   ]
  },
  {
   "cell_type": "markdown",
   "id": "db1b566d",
   "metadata": {},
   "source": [
    "## Fetch the data ##"
   ]
  },
  {
   "cell_type": "markdown",
   "id": "3e0f6d44",
   "metadata": {},
   "source": [
    "For these examples we will be sticking with Apple"
   ]
  },
  {
   "cell_type": "code",
   "execution_count": null,
   "id": "f682583c",
   "metadata": {},
   "outputs": [],
   "source": [
    "# Import packages\n",
    "import yfinance as yf\n",
    "import pandas as pd\n",
    "import numpy as np\n",
    "import datetime\n",
    "import matplotlib.pyplot as plt\n",
    "\n",
    "# Fetch our data\n",
    "chosen_ticker : str = 'AAPL'\n",
    "ticker : pd.DataFrame = yf.download(chosen_ticker, period=\"3mo\", interval=\"1d\")\n",
    "ticker_info : yf.Ticker = yf.Ticker(chosen_ticker)\n",
    "\n",
    "# Fill na\n",
    "ticker_filled = ticker.fillna(method=\"ffill\")"
   ]
  },
  {
   "cell_type": "markdown",
   "id": "b4b208ed",
   "metadata": {},
   "source": [
    "## Example 2.1 - Quick plot for stock price\n",
    "Useful if you just want to see what the data looks like\n",
    "### a) No parameters"
   ]
  },
  {
   "cell_type": "code",
   "execution_count": null,
   "id": "41b97508",
   "metadata": {},
   "outputs": [],
   "source": [
    "ticker_filled.Close.plot() # Plot the Close value of the stock"
   ]
  },
  {
   "cell_type": "markdown",
   "id": "08061fa0",
   "metadata": {},
   "source": [
    "### b) Some info"
   ]
  },
  {
   "cell_type": "code",
   "execution_count": null,
   "id": "962fe5f2",
   "metadata": {},
   "outputs": [],
   "source": [
    "# Same plot but with annotations\n",
    "ticker_filled.Close.plot(title=\"Apple stock price over the last 3 months\", \n",
    "            xlabel=\"Date\",ylabel=f\"\"\"Stock price {ticker_info.info[\"financialCurrency\"]}\"\"\",\n",
    "                 legend=True)"
   ]
  },
  {
   "cell_type": "markdown",
   "id": "5d9d3e0b",
   "metadata": {},
   "source": [
    "## Example 2.2a - Bar chart for volume traded"
   ]
  },
  {
   "cell_type": "code",
   "execution_count": null,
   "id": "a19aa532",
   "metadata": {},
   "outputs": [],
   "source": [
    "# Find the timeseries of volume traded\n",
    "volume_traded : pd.Series = ticker.Volume.copy()\n",
    "volume_traded.head()"
   ]
  },
  {
   "cell_type": "code",
   "execution_count": null,
   "id": "5220813b",
   "metadata": {},
   "outputs": [],
   "source": [
    "# Create our plot\n",
    "fig, ax = plt.subplots(1)\n",
    "fig.autofmt_xdate(rotation=45)\n",
    "fig.set_size_inches(14, 10)\n",
    "\n",
    "# Plot data\n",
    "# x axis - Weeknumber of the year\n",
    "# y axis - Volume traded in that week\n",
    "fig = plt.bar(volume_traded.index.strftime(\"%W\"), volume_traded)\n",
    "# Label axis\n",
    "ax.set_xlabel(\"Week of trading\")\n",
    "ax.set_ylabel(\"Volume Traded\")\n",
    "# Plot\n",
    "ax.set_title(f\"\"\"Volume traded of {chosen_ticker} on a given week\"\"\")\n",
    "ax.plot()"
   ]
  },
  {
   "cell_type": "markdown",
   "id": "4b2a2c3c",
   "metadata": {},
   "source": [
    "## Example 2.2b - Bar Chart for Earnings"
   ]
  },
  {
   "cell_type": "code",
   "execution_count": null,
   "id": "6c7e1140",
   "metadata": {},
   "outputs": [],
   "source": [
    "# Find the timeseries of earnings\n",
    "earnings : pd.Series = ticker_info.earnings.copy()\n",
    "earnings.head()"
   ]
  },
  {
   "cell_type": "code",
   "execution_count": null,
   "id": "437f82b0",
   "metadata": {},
   "outputs": [],
   "source": [
    "# Create our plot\n",
    "earnings.plot.bar(title=f\"\"\"Earnings and Revenue for {chosen_ticker}\"\"\",\n",
    "                 ylabel=f\"\"\"{ticker_info.info['currency']}\"\"\")\n"
   ]
  },
  {
   "cell_type": "markdown",
   "id": "8dea47f3",
   "metadata": {},
   "source": [
    "## Example 2.3 - Candle Stick Plot\n",
    "In this example you may revist [the intro docs example](http://localhost:8888/notebooks/python_intro_docs/6_matplotlib.ipynb#Candle-stick-plots) for how to plot candle stick plots. However, I will be using [mplfinance](https://github.com/matplotlib/mplfinance), which is an add-on to Matplotlib."
   ]
  },
  {
   "cell_type": "code",
   "execution_count": null,
   "id": "27a97a85",
   "metadata": {},
   "outputs": [],
   "source": [
    "# Import the new package\n",
    "import mplfinance as mpf"
   ]
  },
  {
   "cell_type": "code",
   "execution_count": null,
   "id": "60f32a8a",
   "metadata": {},
   "outputs": [],
   "source": [
    "# Plot the candlestick plot\n",
    "mpf.plot(ticker, type='candle')"
   ]
  },
  {
   "cell_type": "markdown",
   "id": "4e614c5e",
   "metadata": {},
   "source": [
    "Note this packages has a multitude of options for plots, look at the documents for more detail."
   ]
  },
  {
   "cell_type": "markdown",
   "id": "f7a61a31",
   "metadata": {},
   "source": [
    "## Example 2.4 - Cash Flow Pie Chart"
   ]
  },
  {
   "cell_type": "markdown",
   "id": "f1fbc71b",
   "metadata": {},
   "source": [
    "In this example we will create Pie Charts to display the cashflow of the stock. These examples may come in very useful when you do stock pitches, to for example justifying a strong bet against inflation."
   ]
  },
  {
   "cell_type": "code",
   "execution_count": null,
   "id": "fc6abea9",
   "metadata": {},
   "outputs": [],
   "source": [
    "# Create a cashflow dataframe\n",
    "cashflow_df : pd.DataFrame = ticker_info.cashflow.copy()"
   ]
  },
  {
   "cell_type": "code",
   "execution_count": null,
   "id": "3f481b5a",
   "metadata": {},
   "outputs": [],
   "source": [
    "df1 = cashflow_df[['2021-09-25']] # Restrict to one year\n",
    "df_in = df1[df1['2021-09-25']>0].copy() # One df for the incoming\n",
    "df_out = df1[df1['2021-09-25']<=0].copy() # One df for the outgoing\n",
    "df_out = df_out.apply(lambda x : -x) # All outgoings will be negative so need to change before we plot"
   ]
  },
  {
   "cell_type": "code",
   "execution_count": null,
   "id": "fad241e5",
   "metadata": {},
   "outputs": [],
   "source": [
    "df_in.plot.pie(y='2021-09-25', title=\"Cashflow In\", figsize=(10,10))"
   ]
  },
  {
   "cell_type": "code",
   "execution_count": null,
   "id": "d6ea536f",
   "metadata": {},
   "outputs": [],
   "source": [
    "df_out.plot.pie(y='2021-09-25', title=\"Cashflow Out\", figsize=(10,10))"
   ]
  },
  {
   "cell_type": "markdown",
   "id": "9b93c5f9",
   "metadata": {},
   "source": [
    "# Summary\n",
    "In this section we created basic plots using the data we found in the previous chapter."
   ]
  },
  {
   "cell_type": "markdown",
   "id": "e3152af0",
   "metadata": {},
   "source": [
    "# Praactice Question 2"
   ]
  },
  {
   "cell_type": "markdown",
   "id": "de152fe8",
   "metadata": {},
   "source": [
    "Plot a labelled pie chart of the institutional holders of AAPL\n",
    "\n",
    "[Solution](http://localhost:8888/notebooks/python_finance_docs/practice_questions_answers.ipynb#Practice-Question-2)"
   ]
  }
 ],
 "metadata": {
  "kernelspec": {
   "display_name": "Python 3 (ipykernel)",
   "language": "python",
   "name": "python3"
  },
  "language_info": {
   "codemirror_mode": {
    "name": "ipython",
    "version": 3
   },
   "file_extension": ".py",
   "mimetype": "text/x-python",
   "name": "python",
   "nbconvert_exporter": "python",
   "pygments_lexer": "ipython3",
   "version": "3.10.4"
  }
 },
 "nbformat": 4,
 "nbformat_minor": 5
}
