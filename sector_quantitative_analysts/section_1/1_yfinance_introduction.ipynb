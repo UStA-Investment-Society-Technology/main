{
 "cells": [
  {
   "cell_type": "markdown",
   "id": "a640ee4f",
   "metadata": {},
   "source": [
    "# yfinance #"
   ]
  },
  {
   "cell_type": "markdown",
   "id": "15ad0e8c",
   "metadata": {},
   "source": [
    "As stated on their [docs page](https://pypi.org/project/yfinance/), *yfinance offers a threaded and Pythonic way to download market data from Yahoo!Ⓡ finance.*\n",
    "\n",
    "We will be using this package to increase the speed at which we collect our financial data. \n",
    "\n",
    "Many of you will have before used Yahoo Finance to fetch things such as valuation measures and trading information, and spent ages trying to do so. This module will help save a vast amount of time! \n",
    "\n",
    "For me one of the best things about yfinance is that stock data can be stored in a Pandas Dataframe, making manipulation that little bit easier."
   ]
  },
  {
   "cell_type": "code",
   "execution_count": null,
   "id": "7a73b35b",
   "metadata": {},
   "outputs": [],
   "source": [
    "import yfinance as yf\n",
    "import pandas as pd\n",
    "# Lets take a look into the module\n",
    "print(dir(yf))\n",
    "# Lets loo into whats available to us to use\n",
    "print(yf.__all__)"
   ]
  },
  {
   "cell_type": "markdown",
   "id": "cf8a1a19",
   "metadata": {},
   "source": [
    "## yf.Ticker ##"
   ]
  },
  {
   "cell_type": "markdown",
   "id": "be3d691f",
   "metadata": {},
   "source": [
    "The 'Ticker' attribute allows us to fetch lots of information about stocks which we can use in our analysis. See the available attributes below."
   ]
  },
  {
   "cell_type": "code",
   "execution_count": null,
   "id": "3613fe01",
   "metadata": {},
   "outputs": [],
   "source": [
    "chosen_ticker : str = 'AAPL'\n",
    "ticker = yf.Ticker(chosen_ticker)\n",
    "# See what attributes are available to us.\n",
    "print(dir(ticker))"
   ]
  },
  {
   "cell_type": "code",
   "execution_count": null,
   "id": "eddafe79",
   "metadata": {},
   "outputs": [],
   "source": [
    "ticker.info"
   ]
  },
  {
   "cell_type": "code",
   "execution_count": null,
   "id": "2cdf695e",
   "metadata": {},
   "outputs": [],
   "source": [
    "ticker_info : dict = ticker.info\n",
    "# Lets find out more about our stock using the info attribute\n",
    "print(ticker_info)"
   ]
  },
  {
   "cell_type": "code",
   "execution_count": null,
   "id": "c7257819",
   "metadata": {},
   "outputs": [],
   "source": [
    "# We all know what apple is, so lets get rid of the longBusinessSummary\n",
    "del ticker_info['longBusinessSummary']"
   ]
  },
  {
   "cell_type": "code",
   "execution_count": null,
   "id": "b18c6a12",
   "metadata": {},
   "outputs": [],
   "source": [
    "# Now lets see what attributes what attributes we have left\n",
    "ticker.info.keys()"
   ]
  },
  {
   "cell_type": "markdown",
   "id": "f9953231",
   "metadata": {},
   "source": [
    "These metrics are very useful and we will come back to them in a later notebook when we will explore what they mean ,and how we can use them to aid our quantitative analysis"
   ]
  },
  {
   "cell_type": "markdown",
   "id": "8a40f6a9",
   "metadata": {},
   "source": [
    "## yf.download\n",
    "The download attribute allows us to download historical stock data."
   ]
  },
  {
   "cell_type": "markdown",
   "id": "e360864d",
   "metadata": {},
   "source": [
    "### Example 1.1 - Downloading last month of stock data"
   ]
  },
  {
   "cell_type": "code",
   "execution_count": null,
   "id": "f021f0ca",
   "metadata": {
    "scrolled": true
   },
   "outputs": [],
   "source": [
    "time_period : str = \"1mo\" # 1d,5d,1mo,3mo,6mo,1y,2y,5y,10y,ytd,max default is '1mo'\n",
    "data_last_month : pd.DataFrame = yf.download(chosen_ticker, period = time_period)\n",
    "data_last_month.tail()"
   ]
  },
  {
   "cell_type": "markdown",
   "id": "db74dc43",
   "metadata": {},
   "source": [
    "### Example 1.2 - Downloading last month of stock data with varying interval"
   ]
  },
  {
   "cell_type": "code",
   "execution_count": null,
   "id": "90daada6",
   "metadata": {},
   "outputs": [],
   "source": [
    "time_interval : str = \"5m\" # valid intervals: 1m,2m,5m,15m,30m,60m,90m,1h,1d,5d,1wk,1mo,3mo default '1d'\n",
    "data_last_month_5m : pd.DataFrame = yf.download(chosen_ticker, period = time_period, interval = time_interval) \n",
    "data_last_month_5m.tail()"
   ]
  },
  {
   "cell_type": "markdown",
   "id": "c18e8f1b",
   "metadata": {},
   "source": [
    "### Example 1.3 - Downloading an interval of stock data"
   ]
  },
  {
   "cell_type": "code",
   "execution_count": null,
   "id": "5acf3617",
   "metadata": {},
   "outputs": [],
   "source": [
    "start_date : str = \"2020-01-01\"\n",
    "end_date : str= \"2021-01-01\"\n",
    "data_interval : pd.DataFrame = yf.download(chosen_ticker, start=start_date, end=end_date)\n",
    "data_interval.tail(), data_interval.head()"
   ]
  },
  {
   "cell_type": "markdown",
   "id": "438dd758",
   "metadata": {},
   "source": [
    "## Multiple tickers"
   ]
  },
  {
   "cell_type": "markdown",
   "id": "8951bd80",
   "metadata": {},
   "source": [
    "Sometimes during our analysis we will want to gather data on multiple stocks. I will now demonstrate how to do this."
   ]
  },
  {
   "cell_type": "markdown",
   "id": "2b558914",
   "metadata": {},
   "source": [
    "### Example 1.6 - Multiple tickers stock info (yf.Tickers)"
   ]
  },
  {
   "cell_type": "code",
   "execution_count": null,
   "id": "0830f5a9",
   "metadata": {},
   "outputs": [],
   "source": [
    "chosen_tickers = [\"AAPL\",\"MSFT\"]"
   ]
  },
  {
   "cell_type": "code",
   "execution_count": null,
   "id": "3f5ed4bb",
   "metadata": {},
   "outputs": [],
   "source": [
    "AAPL_MSFT_info : yf.tickers = yf.Tickers(\"aapl msft\")\n",
    "AAPL_MSFT_info.tickers # The tickers object simplt stores multiple ticker objects\n",
    "AAPL_MSFT_info.tickers['AAPL'].info # Simply select the correct ticker as so"
   ]
  },
  {
   "cell_type": "markdown",
   "id": "b1b78941",
   "metadata": {},
   "source": [
    "### Example 1.5 - Multiple tickers stock data (yf.download)"
   ]
  },
  {
   "cell_type": "code",
   "execution_count": null,
   "id": "526c932f",
   "metadata": {},
   "outputs": [],
   "source": [
    "AAPL_MSFT_stock_data : pd.DataFrame = yf.download(chosen_tickers, period=\"1mo\")\n",
    "AAPL_MSFT_stock_data.tail()"
   ]
  },
  {
   "cell_type": "markdown",
   "id": "06b8a563",
   "metadata": {},
   "source": [
    "Having multiple stocks in the same dataframe is helpful to compare, but remember that loading lots of data into one dataframe may increase search times."
   ]
  },
  {
   "cell_type": "markdown",
   "id": "17751aea",
   "metadata": {},
   "source": [
    "# Summary and notes\n",
    "In this section we learnt how to fetch stock data for given tickers with the yfinance package.\n",
    "\n",
    "Be sure to checkout the yfinance docs page to explore all features of the package."
   ]
  },
  {
   "cell_type": "markdown",
   "id": "6fb106c9",
   "metadata": {},
   "source": [
    "# Practice Question 1\n",
    "Get today's stock information for the Dow Jones, and for the period between 2007-01-01 and 2010-01-01 find the lowest value of the stock and when.\n",
    "\n",
    "[`solution`](http://localhost:8888/notebooks/python_finance_docs/practice_questions_answers.ipynb#Practice-Question-1)"
   ]
  },
  {
   "cell_type": "code",
   "execution_count": null,
   "id": "e7f5c8e4",
   "metadata": {},
   "outputs": [],
   "source": []
  }
 ],
 "metadata": {
  "kernelspec": {
   "display_name": "Python 3 (ipykernel)",
   "language": "python",
   "name": "python3"
  },
  "language_info": {
   "codemirror_mode": {
    "name": "ipython",
    "version": 3
   },
   "file_extension": ".py",
   "mimetype": "text/x-python",
   "name": "python",
   "nbconvert_exporter": "python",
   "pygments_lexer": "ipython3",
   "version": "3.10.4"
  }
 },
 "nbformat": 4,
 "nbformat_minor": 5
}
